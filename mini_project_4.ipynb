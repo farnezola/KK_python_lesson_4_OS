{
 "cells": [
  {
   "cell_type": "code",
   "execution_count": 168,
   "metadata": {},
   "outputs": [],
   "source": [
    "import pandas as pd\n",
    "import os\n",
    "import seaborn as sns\n",
    "import matplotlib as plt"
   ]
  },
  {
   "cell_type": "code",
   "execution_count": null,
   "metadata": {},
   "outputs": [],
   "source": [
    "# Соберите все данные из папки data в один датафрэйм, имеющий следующие столбцы:\n",
    "# колонки из самих файлов (product_id, quantity), имя пользователя (name),\n",
    "# и дату этих покупок (date, соответствует названию папки, где лежит папка с пользователем)."
   ]
  },
  {
   "cell_type": "code",
   "execution_count": 158,
   "metadata": {},
   "outputs": [],
   "source": [
    "tree = os.walk('/home/jupyter-m.gikalo-16/shared/homeworks/python_ds_miniprojects/4/data')"
   ]
  },
  {
   "cell_type": "code",
   "execution_count": 159,
   "metadata": {},
   "outputs": [
    {
     "name": "stdout",
     "output_type": "stream",
     "text": [
      "    product_id quantity            name        date\n",
      "0           27        4     Petr_Ivanov  2020-12-05\n",
      "1           89        1     Petr_Ivanov  2020-12-05\n",
      "2           33        2     Petr_Ivanov  2020-12-05\n",
      "3            8        3     Petr_Ivanov  2020-12-05\n",
      "4           16        1     Petr_Ivanov  2020-12-05\n",
      "..         ...      ...             ...         ...\n",
      "156         18        4    Petr_Fedorov  2020-12-07\n",
      "157         94        4    Petr_Fedorov  2020-12-07\n",
      "158         95        2  Vasiliy_Ivanov  2020-12-07\n",
      "159         83        3  Vasiliy_Ivanov  2020-12-07\n",
      "160         64        1  Vasiliy_Ivanov  2020-12-07\n",
      "\n",
      "[161 rows x 4 columns]\n"
     ]
    }
   ],
   "source": [
    "df = pd.DataFrame(columns = ['product_id', 'quantity', 'name', 'date'])\n",
    "for i in tree:\n",
    "    if i[-1] == ['data.csv']:\n",
    "        df_i = pd.read_csv(i[0] + '/data.csv', usecols = ['product_id', 'quantity'])\n",
    "        i = i[0].split('/')\n",
    "        df_i['name'] = i[-1]\n",
    "        df_i['date'] = i[-2]\n",
    "        df = pd.concat([df, df_i], ignore_index=True)\n",
    "print(df)"
   ]
  },
  {
   "cell_type": "code",
   "execution_count": null,
   "metadata": {},
   "outputs": [],
   "source": [
    "# Выясните, какой пользователь купил больше всего товаров."
   ]
  },
  {
   "cell_type": "code",
   "execution_count": 160,
   "metadata": {},
   "outputs": [
    {
     "data": {
      "text/plain": [
       "480"
      ]
     },
     "execution_count": 160,
     "metadata": {},
     "output_type": "execute_result"
    }
   ],
   "source": [
    "df.quantity.sum()"
   ]
  },
  {
   "cell_type": "code",
   "execution_count": null,
   "metadata": {},
   "outputs": [],
   "source": [
    "# Найдите топ-10 товаров по числу проданных единиц за всё время и постройте барплот (столбчатую диаграмму, sns.barplot), где:\n",
    "\n",
    "# по оси x – идентификаторы товаров (product_id) \n",
    "# по оси y – суммарное число их покупок (сколько товаров с таким product_id было продано)"
   ]
  },
  {
   "cell_type": "code",
   "execution_count": 163,
   "metadata": {},
   "outputs": [
    {
     "data": {
      "text/html": [
       "<div>\n",
       "<style scoped>\n",
       "    .dataframe tbody tr th:only-of-type {\n",
       "        vertical-align: middle;\n",
       "    }\n",
       "\n",
       "    .dataframe tbody tr th {\n",
       "        vertical-align: top;\n",
       "    }\n",
       "\n",
       "    .dataframe thead th {\n",
       "        text-align: right;\n",
       "    }\n",
       "</style>\n",
       "<table border=\"1\" class=\"dataframe\">\n",
       "  <thead>\n",
       "    <tr style=\"text-align: right;\">\n",
       "      <th></th>\n",
       "      <th>name</th>\n",
       "      <th>quantity</th>\n",
       "    </tr>\n",
       "  </thead>\n",
       "  <tbody>\n",
       "    <tr>\n",
       "      <th>3</th>\n",
       "      <td>Alexey_Smirnov</td>\n",
       "      <td>52</td>\n",
       "    </tr>\n",
       "    <tr>\n",
       "      <th>13</th>\n",
       "      <td>Petr_Smirnov</td>\n",
       "      <td>52</td>\n",
       "    </tr>\n",
       "    <tr>\n",
       "      <th>6</th>\n",
       "      <td>Anton_Smirnov</td>\n",
       "      <td>45</td>\n",
       "    </tr>\n",
       "    <tr>\n",
       "      <th>10</th>\n",
       "      <td>Petr_Fedorov</td>\n",
       "      <td>34</td>\n",
       "    </tr>\n",
       "    <tr>\n",
       "      <th>7</th>\n",
       "      <td>Kirill_Fedorov</td>\n",
       "      <td>28</td>\n",
       "    </tr>\n",
       "    <tr>\n",
       "      <th>16</th>\n",
       "      <td>Rostislav_Petrov</td>\n",
       "      <td>28</td>\n",
       "    </tr>\n",
       "    <tr>\n",
       "      <th>19</th>\n",
       "      <td>Vasiliy_Ivanov</td>\n",
       "      <td>27</td>\n",
       "    </tr>\n",
       "    <tr>\n",
       "      <th>0</th>\n",
       "      <td>Alexey_Fedorov</td>\n",
       "      <td>24</td>\n",
       "    </tr>\n",
       "    <tr>\n",
       "      <th>4</th>\n",
       "      <td>Anton_Ivanov</td>\n",
       "      <td>23</td>\n",
       "    </tr>\n",
       "    <tr>\n",
       "      <th>11</th>\n",
       "      <td>Petr_Ivanov</td>\n",
       "      <td>21</td>\n",
       "    </tr>\n",
       "    <tr>\n",
       "      <th>5</th>\n",
       "      <td>Anton_Petrov</td>\n",
       "      <td>18</td>\n",
       "    </tr>\n",
       "    <tr>\n",
       "      <th>9</th>\n",
       "      <td>Kirill_Smirnov</td>\n",
       "      <td>17</td>\n",
       "    </tr>\n",
       "    <tr>\n",
       "      <th>1</th>\n",
       "      <td>Alexey_Ivanov</td>\n",
       "      <td>17</td>\n",
       "    </tr>\n",
       "    <tr>\n",
       "      <th>17</th>\n",
       "      <td>Rostislav_Smirnov</td>\n",
       "      <td>17</td>\n",
       "    </tr>\n",
       "    <tr>\n",
       "      <th>14</th>\n",
       "      <td>Rostislav_Fedorov</td>\n",
       "      <td>16</td>\n",
       "    </tr>\n",
       "    <tr>\n",
       "      <th>18</th>\n",
       "      <td>Vasiliy_Fedorov</td>\n",
       "      <td>15</td>\n",
       "    </tr>\n",
       "    <tr>\n",
       "      <th>12</th>\n",
       "      <td>Petr_Petrov</td>\n",
       "      <td>14</td>\n",
       "    </tr>\n",
       "    <tr>\n",
       "      <th>8</th>\n",
       "      <td>Kirill_Petrov</td>\n",
       "      <td>9</td>\n",
       "    </tr>\n",
       "    <tr>\n",
       "      <th>15</th>\n",
       "      <td>Rostislav_Ivanov</td>\n",
       "      <td>9</td>\n",
       "    </tr>\n",
       "    <tr>\n",
       "      <th>2</th>\n",
       "      <td>Alexey_Petrov</td>\n",
       "      <td>7</td>\n",
       "    </tr>\n",
       "    <tr>\n",
       "      <th>20</th>\n",
       "      <td>Vasiliy_Petrov</td>\n",
       "      <td>7</td>\n",
       "    </tr>\n",
       "  </tbody>\n",
       "</table>\n",
       "</div>"
      ],
      "text/plain": [
       "                 name  quantity\n",
       "3      Alexey_Smirnov        52\n",
       "13       Petr_Smirnov        52\n",
       "6       Anton_Smirnov        45\n",
       "10       Petr_Fedorov        34\n",
       "7      Kirill_Fedorov        28\n",
       "16   Rostislav_Petrov        28\n",
       "19     Vasiliy_Ivanov        27\n",
       "0      Alexey_Fedorov        24\n",
       "4        Anton_Ivanov        23\n",
       "11        Petr_Ivanov        21\n",
       "5        Anton_Petrov        18\n",
       "9      Kirill_Smirnov        17\n",
       "1       Alexey_Ivanov        17\n",
       "17  Rostislav_Smirnov        17\n",
       "14  Rostislav_Fedorov        16\n",
       "18    Vasiliy_Fedorov        15\n",
       "12        Petr_Petrov        14\n",
       "8       Kirill_Petrov         9\n",
       "15   Rostislav_Ivanov         9\n",
       "2       Alexey_Petrov         7\n",
       "20     Vasiliy_Petrov         7"
      ]
     },
     "execution_count": 163,
     "metadata": {},
     "output_type": "execute_result"
    }
   ],
   "source": [
    "df.groupby('name', as_index = False)\\\n",
    "    .agg({'quantity':'sum'})\\\n",
    "    .sort_values('quantity', ascending = False)"
   ]
  },
  {
   "cell_type": "code",
   "execution_count": 173,
   "metadata": {},
   "outputs": [],
   "source": [
    "product_quantity = df.groupby('product_id', as_index = False)\\\n",
    "    .agg({'quantity':'sum'})\\\n",
    "    .sort_values('quantity', ascending = False)\n",
    "product_quantity_top = product_quantity[:10]"
   ]
  },
  {
   "cell_type": "code",
   "execution_count": 174,
   "metadata": {},
   "outputs": [
    {
     "data": {
      "text/plain": [
       "<matplotlib.axes._subplots.AxesSubplot at 0x7fc0ff424be0>"
      ]
     },
     "execution_count": 174,
     "metadata": {},
     "output_type": "execute_result"
    },
    {
     "data": {
      "image/png": "[encoded data removed]",
      "text/plain": [
       "<Figure size 432x288 with 1 Axes>"
      ]
     },
     "metadata": {
      "needs_background": "light"
     },
     "output_type": "display_data"
    }
   ],
   "source": [
    "sns.barplot(x = 'product_id', y = 'quantity', data = product_quantity_top)"
   ]
  },
  {
   "cell_type": "code",
   "execution_count": null,
   "metadata": {},
   "outputs": [],
   "source": [
    "# Посмотрим на продажи по дням!\n",
    "# Для визуализации снова используйте барплот, только теперь по оси x будут дни, по которым у нас есть данные (date)."
   ]
  },
  {
   "cell_type": "code",
   "execution_count": 198,
   "metadata": {},
   "outputs": [],
   "source": [
    "date_quantity = df.groupby('date', as_index = False)\\\n",
    "    .agg({'quantity':'sum'})\\\n",
    "    .sort_values('date')"
   ]
  },
  {
   "cell_type": "code",
   "execution_count": 202,
   "metadata": {},
   "outputs": [
    {
     "data": {
      "image/png": "[encoded data removed]",
      "text/plain": [
       "<Figure size 842.4x595.44 with 1 Axes>"
      ]
     },
     "metadata": {},
     "output_type": "display_data"
    }
   ],
   "source": [
    "sns.barplot(x = 'date', y = 'quantity', data = date_quantity)\n",
    "sns.set(rc={'figure.figsize':(5.7,2.27)})"
   ]
  },
  {
   "cell_type": "code",
   "execution_count": null,
   "metadata": {},
   "outputs": [],
   "source": [
    "# Сколько пользователей приобрели какой-либо товар повторно (более 1 раза)?\n",
    "# Повтором будем считать покупку товара с одинаковым product_id, совершенную в разные дни.\n",
    "# Например, пользователь Sasha Tsarev дважды приобрел товар 6.\n",
    "# Поскольку покупка была совершена в один и тот же день, повторной в данном случае она считаться не будет.\n",
    "# Katya Skriptsova также сделал две покупки товара 7, но в разные дни, поэтому этот случай засчитывается."
   ]
  },
  {
   "cell_type": "code",
   "execution_count": 207,
   "metadata": {},
   "outputs": [],
   "source": [
    "non_dup_df = df.drop_duplicates(subset = ['product_id', 'name', 'date'])"
   ]
  },
  {
   "cell_type": "code",
   "execution_count": 212,
   "metadata": {},
   "outputs": [
    {
     "data": {
      "text/html": [
       "<div>\n",
       "<style scoped>\n",
       "    .dataframe tbody tr th:only-of-type {\n",
       "        vertical-align: middle;\n",
       "    }\n",
       "\n",
       "    .dataframe tbody tr th {\n",
       "        vertical-align: top;\n",
       "    }\n",
       "\n",
       "    .dataframe thead th {\n",
       "        text-align: right;\n",
       "    }\n",
       "</style>\n",
       "<table border=\"1\" class=\"dataframe\">\n",
       "  <thead>\n",
       "    <tr style=\"text-align: right;\">\n",
       "      <th></th>\n",
       "      <th>name</th>\n",
       "      <th>product_id</th>\n",
       "      <th>date</th>\n",
       "    </tr>\n",
       "  </thead>\n",
       "  <tbody>\n",
       "    <tr>\n",
       "      <th>37</th>\n",
       "      <td>Anton_Ivanov</td>\n",
       "      <td>15</td>\n",
       "      <td>2</td>\n",
       "    </tr>\n",
       "    <tr>\n",
       "      <th>92</th>\n",
       "      <td>Petr_Fedorov</td>\n",
       "      <td>94</td>\n",
       "      <td>2</td>\n",
       "    </tr>\n",
       "  </tbody>\n",
       "</table>\n",
       "</div>"
      ],
      "text/plain": [
       "            name  product_id  date\n",
       "37  Anton_Ivanov          15     2\n",
       "92  Petr_Fedorov          94     2"
      ]
     },
     "execution_count": 212,
     "metadata": {},
     "output_type": "execute_result"
    }
   ],
   "source": [
    "non_dup_df.groupby(['name', 'product_id'], as_index = False)\\\n",
    "    .agg({'date':'count'})\\\n",
    "    .query('date > 1')"
   ]
  },
  {
   "cell_type": "code",
   "execution_count": null,
   "metadata": {},
   "outputs": [],
   "source": []
  },
  {
   "cell_type": "code",
   "execution_count": null,
   "metadata": {},
   "outputs": [],
   "source": [
    "# Дополнительный проект\n",
    "\n",
    "# И небольшой минипроект на фильтрацию данных!\n",
    "\n",
    "# Имеется таблица с записями о компаниях, включая их ИНН, и отдельный текстовый файл с набором ИНН (колонка head_inn), которые хранятся в папке 4_inn.\n",
    "\n",
    "# inn.xls — таблица в экселевском формате\n",
    "# necessary_inn.txt — перечень необходимых ИНН в текстовом формате\n",
    "\n",
    "# Задачи:\n",
    "# извлечь из таблицы записи с ИНН, указанными в текстовом файле и записать результат в файл selected_inn.csv"
   ]
  },
  {
   "cell_type": "code",
   "execution_count": 222,
   "metadata": {
    "scrolled": true
   },
   "outputs": [
    {
     "data": {
      "text/html": [
       "<div>\n",
       "<style scoped>\n",
       "    .dataframe tbody tr th:only-of-type {\n",
       "        vertical-align: middle;\n",
       "    }\n",
       "\n",
       "    .dataframe tbody tr th {\n",
       "        vertical-align: top;\n",
       "    }\n",
       "\n",
       "    .dataframe thead th {\n",
       "        text-align: right;\n",
       "    }\n",
       "</style>\n",
       "<table border=\"1\" class=\"dataframe\">\n",
       "  <thead>\n",
       "    <tr style=\"text-align: right;\">\n",
       "      <th></th>\n",
       "      <th>Unnamed: 0</th>\n",
       "      <th>#</th>\n",
       "      <th>name</th>\n",
       "      <th>reg_number</th>\n",
       "      <th>address</th>\n",
       "      <th>head</th>\n",
       "      <th>head_job</th>\n",
       "      <th>head_inn</th>\n",
       "      <th>phone</th>\n",
       "      <th>email</th>\n",
       "      <th>site</th>\n",
       "      <th>registration_date</th>\n",
       "      <th>nalogoplatelschik_code</th>\n",
       "      <th>oktmo_code</th>\n",
       "      <th>okato_code</th>\n",
       "      <th>registration_region</th>\n",
       "      <th>okato_name</th>\n",
       "      <th>field</th>\n",
       "      <th>capital,RUB</th>\n",
       "      <th>income,RUB</th>\n",
       "    </tr>\n",
       "  </thead>\n",
       "  <tbody>\n",
       "    <tr>\n",
       "      <th>0</th>\n",
       "      <td>0</td>\n",
       "      <td>0</td>\n",
       "      <td>ЗАО «Власова, Макаров и Шашков»</td>\n",
       "      <td>1143692580560</td>\n",
       "      <td>д. Кирово-Чепецк, пр. Металлургов, д. 537 к. 3...</td>\n",
       "      <td>Жданов Карл Виленович</td>\n",
       "      <td>Маммолог</td>\n",
       "      <td>109092209811</td>\n",
       "      <td>+7 (559) 338-87-76</td>\n",
       "      <td>bogdanovavtonom@yahoo.com</td>\n",
       "      <td>ooo.info</td>\n",
       "      <td>2015-01-07</td>\n",
       "      <td>2006-10-04</td>\n",
       "      <td>21112877268</td>\n",
       "      <td>73423615032</td>\n",
       "      <td>Ulan-Ude</td>\n",
       "      <td>к. Тосно, ул. Пушкинская, д. 896, 617222</td>\n",
       "      <td>Синхронизация критически важных отношений</td>\n",
       "      <td>54875526078</td>\n",
       "      <td>32205872896</td>\n",
       "    </tr>\n",
       "    <tr>\n",
       "      <th>1</th>\n",
       "      <td>1</td>\n",
       "      <td>1</td>\n",
       "      <td>РАО «Тимофеева, Алексеева и Кузнецова»</td>\n",
       "      <td>9342309660697</td>\n",
       "      <td>г. Арзамас, наб. Фестивальная, д. 7 стр. 8/2, ...</td>\n",
       "      <td>Рожков Харлампий Алексеевич</td>\n",
       "      <td>Воспитатель</td>\n",
       "      <td>704229465069</td>\n",
       "      <td>8 (632) 620-8879</td>\n",
       "      <td>safonovantonin@rao.org</td>\n",
       "      <td>ooo.net</td>\n",
       "      <td>1990-05-16</td>\n",
       "      <td>2019-01-18</td>\n",
       "      <td>18393547520</td>\n",
       "      <td>19072454279</td>\n",
       "      <td>Tyoply Stan</td>\n",
       "      <td>ст. Кяхта, бул. Нефтяников, д. 24, 768742</td>\n",
       "      <td>Формирование заказных методик</td>\n",
       "      <td>33876448811</td>\n",
       "      <td>47437574301</td>\n",
       "    </tr>\n",
       "    <tr>\n",
       "      <th>2</th>\n",
       "      <td>2</td>\n",
       "      <td>2</td>\n",
       "      <td>РАО «Юдин-Ефимова»</td>\n",
       "      <td>1277485323451</td>\n",
       "      <td>п. Меренга, алл. Достоевского, д. 3/4 к. 497, ...</td>\n",
       "      <td>Филимон Фадеевич Дьячков</td>\n",
       "      <td>Автослесарь</td>\n",
       "      <td>267655036377</td>\n",
       "      <td>+74925330378</td>\n",
       "      <td>kdorofeev@npo.ru</td>\n",
       "      <td>ao.com</td>\n",
       "      <td>1982-11-04</td>\n",
       "      <td>1986-06-19</td>\n",
       "      <td>56104355836</td>\n",
       "      <td>18629292792</td>\n",
       "      <td>Danilov</td>\n",
       "      <td>клх Усолье Сибирское, алл. Шишкина, д. 3/9 к. ...</td>\n",
       "      <td>Максимизация корпоративных метрик</td>\n",
       "      <td>94073834991</td>\n",
       "      <td>7701710065</td>\n",
       "    </tr>\n",
       "    <tr>\n",
       "      <th>3</th>\n",
       "      <td>3</td>\n",
       "      <td>3</td>\n",
       "      <td>Доронин Инкорпорэйтед</td>\n",
       "      <td>7139161431511</td>\n",
       "      <td>д. Иваново, ул. Красных Партизан, д. 83 к. 4, ...</td>\n",
       "      <td>Крылов Глеб Якубович</td>\n",
       "      <td>Тюремный надзиратель</td>\n",
       "      <td>362024991175</td>\n",
       "      <td>+7 118 643 21 48</td>\n",
       "      <td>nkulakova@mail.ru</td>\n",
       "      <td>ooo.ru</td>\n",
       "      <td>2005-01-02</td>\n",
       "      <td>2004-04-06</td>\n",
       "      <td>10398489351</td>\n",
       "      <td>32502585383</td>\n",
       "      <td>Beryozovsky</td>\n",
       "      <td>г. Заводоуковск, ул. Гражданская, д. 7 к. 8/5,...</td>\n",
       "      <td>Разработка ориентированных на пользователя инт...</td>\n",
       "      <td>86971505490</td>\n",
       "      <td>61148002572</td>\n",
       "    </tr>\n",
       "    <tr>\n",
       "      <th>4</th>\n",
       "      <td>4</td>\n",
       "      <td>4</td>\n",
       "      <td>Объединенная энергетическая компания</td>\n",
       "      <td>6114798049639</td>\n",
       "      <td>к. Энгельс, наб. Шишкина, д. 120, 823828</td>\n",
       "      <td>Субботин Вячеслав Федотович</td>\n",
       "      <td>Инженер-электрик</td>\n",
       "      <td>257948948010</td>\n",
       "      <td>8 642 249 2134</td>\n",
       "      <td>evgraf_18@yahoo.com</td>\n",
       "      <td>gerasimova.biz</td>\n",
       "      <td>1983-07-02</td>\n",
       "      <td>1992-06-20</td>\n",
       "      <td>20074507047</td>\n",
       "      <td>40083207999</td>\n",
       "      <td>Bavly</td>\n",
       "      <td>к. Соль-Илецк, пер. Пригородный, д. 804 к. 1/3...</td>\n",
       "      <td>Монетизация интуитивных веб-сервисов</td>\n",
       "      <td>36351136214</td>\n",
       "      <td>34861533393</td>\n",
       "    </tr>\n",
       "  </tbody>\n",
       "</table>\n",
       "</div>"
      ],
      "text/plain": [
       "   Unnamed: 0  #                                    name     reg_number  \\\n",
       "0           0  0         ЗАО «Власова, Макаров и Шашков»  1143692580560   \n",
       "1           1  1  РАО «Тимофеева, Алексеева и Кузнецова»  9342309660697   \n",
       "2           2  2                      РАО «Юдин-Ефимова»  1277485323451   \n",
       "3           3  3                   Доронин Инкорпорэйтед  7139161431511   \n",
       "4           4  4    Объединенная энергетическая компания  6114798049639   \n",
       "\n",
       "                                             address  \\\n",
       "0  д. Кирово-Чепецк, пр. Металлургов, д. 537 к. 3...   \n",
       "1  г. Арзамас, наб. Фестивальная, д. 7 стр. 8/2, ...   \n",
       "2  п. Меренга, алл. Достоевского, д. 3/4 к. 497, ...   \n",
       "3  д. Иваново, ул. Красных Партизан, д. 83 к. 4, ...   \n",
       "4           к. Энгельс, наб. Шишкина, д. 120, 823828   \n",
       "\n",
       "                          head              head_job      head_inn  \\\n",
       "0        Жданов Карл Виленович              Маммолог  109092209811   \n",
       "1  Рожков Харлампий Алексеевич           Воспитатель  704229465069   \n",
       "2     Филимон Фадеевич Дьячков           Автослесарь  267655036377   \n",
       "3         Крылов Глеб Якубович  Тюремный надзиратель  362024991175   \n",
       "4  Субботин Вячеслав Федотович      Инженер-электрик  257948948010   \n",
       "\n",
       "                phone                      email            site  \\\n",
       "0  +7 (559) 338-87-76  bogdanovavtonom@yahoo.com        ooo.info   \n",
       "1    8 (632) 620-8879     safonovantonin@rao.org         ooo.net   \n",
       "2        +74925330378           kdorofeev@npo.ru          ao.com   \n",
       "3    +7 118 643 21 48          nkulakova@mail.ru          ooo.ru   \n",
       "4      8 642 249 2134        evgraf_18@yahoo.com  gerasimova.biz   \n",
       "\n",
       "  registration_date nalogoplatelschik_code   oktmo_code   okato_code  \\\n",
       "0        2015-01-07             2006-10-04  21112877268  73423615032   \n",
       "1        1990-05-16             2019-01-18  18393547520  19072454279   \n",
       "2        1982-11-04             1986-06-19  56104355836  18629292792   \n",
       "3        2005-01-02             2004-04-06  10398489351  32502585383   \n",
       "4        1983-07-02             1992-06-20  20074507047  40083207999   \n",
       "\n",
       "  registration_region                                         okato_name  \\\n",
       "0            Ulan-Ude           к. Тосно, ул. Пушкинская, д. 896, 617222   \n",
       "1         Tyoply Stan          ст. Кяхта, бул. Нефтяников, д. 24, 768742   \n",
       "2             Danilov  клх Усолье Сибирское, алл. Шишкина, д. 3/9 к. ...   \n",
       "3         Beryozovsky  г. Заводоуковск, ул. Гражданская, д. 7 к. 8/5,...   \n",
       "4               Bavly  к. Соль-Илецк, пер. Пригородный, д. 804 к. 1/3...   \n",
       "\n",
       "                                               field  capital,RUB   income,RUB  \n",
       "0          Синхронизация критически важных отношений  54875526078  32205872896  \n",
       "1                      Формирование заказных методик  33876448811  47437574301  \n",
       "2                  Максимизация корпоративных метрик  94073834991   7701710065  \n",
       "3  Разработка ориентированных на пользователя инт...  86971505490  61148002572  \n",
       "4               Монетизация интуитивных веб-сервисов  36351136214  34861533393  "
      ]
     },
     "execution_count": 222,
     "metadata": {},
     "output_type": "execute_result"
    }
   ],
   "source": [
    "df_inn = pd.read_excel('/home/jupyter-m.gikalo-16/shared/homeworks/python_ds_miniprojects/4_inn/inn.xls')\n",
    "df_inn.head()"
   ]
  },
  {
   "cell_type": "code",
   "execution_count": null,
   "metadata": {},
   "outputs": [],
   "source": [
    "# В качестве проверки укажите сумму колонки income,RUB в отобранных данных.\n",
    "\n",
    "# NB! У этого набора данных нет заголовка, поэтому вам пригодится аргумент header=None."
   ]
  },
  {
   "cell_type": "code",
   "execution_count": 230,
   "metadata": {
    "scrolled": true
   },
   "outputs": [
    {
     "data": {
      "text/html": [
       "<div>\n",
       "<style scoped>\n",
       "    .dataframe tbody tr th:only-of-type {\n",
       "        vertical-align: middle;\n",
       "    }\n",
       "\n",
       "    .dataframe tbody tr th {\n",
       "        vertical-align: top;\n",
       "    }\n",
       "\n",
       "    .dataframe thead th {\n",
       "        text-align: right;\n",
       "    }\n",
       "</style>\n",
       "<table border=\"1\" class=\"dataframe\">\n",
       "  <thead>\n",
       "    <tr style=\"text-align: right;\">\n",
       "      <th></th>\n",
       "      <th>0</th>\n",
       "    </tr>\n",
       "  </thead>\n",
       "  <tbody>\n",
       "    <tr>\n",
       "      <th>0</th>\n",
       "      <td>394609645484</td>\n",
       "    </tr>\n",
       "    <tr>\n",
       "      <th>1</th>\n",
       "      <td>281578625230</td>\n",
       "    </tr>\n",
       "    <tr>\n",
       "      <th>2</th>\n",
       "      <td>923769811917</td>\n",
       "    </tr>\n",
       "    <tr>\n",
       "      <th>3</th>\n",
       "      <td>998694734508</td>\n",
       "    </tr>\n",
       "    <tr>\n",
       "      <th>4</th>\n",
       "      <td>271011690615</td>\n",
       "    </tr>\n",
       "  </tbody>\n",
       "</table>\n",
       "</div>"
      ],
      "text/plain": [
       "              0\n",
       "0  394609645484\n",
       "1  281578625230\n",
       "2  923769811917\n",
       "3  998694734508\n",
       "4  271011690615"
      ]
     },
     "execution_count": 230,
     "metadata": {},
     "output_type": "execute_result"
    }
   ],
   "source": [
    "inn = pd.read_csv('/home/jupyter-m.gikalo-16/shared/homeworks/python_ds_miniprojects/4_inn/necessary_inn.txt', header = None)\n",
    "inn.head()"
   ]
  },
  {
   "cell_type": "code",
   "execution_count": 239,
   "metadata": {},
   "outputs": [],
   "source": [
    "inn = inn[0].tolist()"
   ]
  },
  {
   "cell_type": "code",
   "execution_count": 241,
   "metadata": {},
   "outputs": [],
   "source": [
    "df_nes_inn = df_inn.query('head_inn in @inn')\n",
    "    "
   ]
  },
  {
   "cell_type": "code",
   "execution_count": 242,
   "metadata": {},
   "outputs": [],
   "source": [
    "df_nes_inn.to_csv('df_nes_inn.csv')"
   ]
  },
  {
   "cell_type": "code",
   "execution_count": 246,
   "metadata": {},
   "outputs": [
    {
     "data": {
      "text/plain": [
       "6104522627393"
      ]
     },
     "execution_count": 246,
     "metadata": {},
     "output_type": "execute_result"
    }
   ],
   "source": [
    "df_nes_inn['income,RUB'].sum()"
   ]
  },
  {
   "cell_type": "code",
   "execution_count": null,
   "metadata": {},
   "outputs": [],
   "source": []
  }
 ],
 "metadata": {
  "kernelspec": {
   "display_name": "Python 3 (ipykernel)",
   "language": "python",
   "name": "python3"
  },
  "language_info": {
   "codemirror_mode": {
    "name": "ipython",
    "version": 3
   },
   "file_extension": ".py",
   "mimetype": "text/x-python",
   "name": "python",
   "nbconvert_exporter": "python",
   "pygments_lexer": "ipython3",
   "version": "3.9.7"
  }
 },
 "nbformat": 4,
 "nbformat_minor": 4
}
